{
 "cells": [
  {
   "attachments": {},
   "cell_type": "markdown",
   "metadata": {},
   "source": [
    "# Education Statistics exploration\n",
    "## by Pedro Cruz"
   ]
  },
  {
   "attachments": {},
   "cell_type": "markdown",
   "metadata": {},
   "source": [
    "## Introduction\n",
    "\n",
    "> Notebook prepared for investigation of the education statistics dataset made available by The World Bank Data Catalog.\n",
    "> API: the World Bank Data Catalog provides an API for easy access and there is an open source initiative by Tim Herzog (https://github.com/tgherzog), called WBGAPI that streamlines the use of World Bank API. In this report all calls to the World Bank API will be made through the WBGAPI module."
   ]
  },
  {
   "cell_type": "code",
   "execution_count": 1,
   "metadata": {},
   "outputs": [],
   "source": [
    "import wbgapi as wb\n",
    "import pandas as pd\n",
    "\n",
    "pd.set_option('display.max_colwidth', None)"
   ]
  },
  {
   "cell_type": "code",
   "execution_count": 2,
   "metadata": {},
   "outputs": [],
   "source": [
    "# series for future exploration\n",
    "# {'EG.GDP.PUSE.KO.PP': 'GDP per unit of energy use (PPP $ per kg of oil equivalent)',\n",
    "# 'SL.GDP.PCAP.EM.KD': 'GDP per person employed (constant 2017 PPP $)'\n",
    "# }"
   ]
  },
  {
   "cell_type": "code",
   "execution_count": 3,
   "metadata": {},
   "outputs": [
    {
     "data": {
      "text/html": [
       "<div class=\"wbgapi\"><table>\n",
       "<thead>\n",
       "<tr><th>id  </th><th>name                                                                </th><th>code  </th><th style=\"text-align: right;\">  concepts</th><th>lastupdated  </th></tr>\n",
       "</thead>\n",
       "<tbody>\n",
       "<tr><td>1   </td><td>Doing Business                                                      </td><td>DBS   </td><td style=\"text-align: right;\">         3</td><td>2021-08-18   </td></tr>\n",
       "<tr><td>2   </td><td>World Development Indicators                                        </td><td>WDI   </td><td style=\"text-align: right;\">         3</td><td>2022-12-22   </td></tr>\n",
       "<tr><td>3   </td><td>Worldwide Governance Indicators                                     </td><td>WGI   </td><td style=\"text-align: right;\">         3</td><td>2022-09-23   </td></tr>\n",
       "<tr><td>5   </td><td>Subnational Malnutrition Database                                   </td><td>SNM   </td><td style=\"text-align: right;\">         3</td><td>2016-03-21   </td></tr>\n",
       "<tr><td>6   </td><td>International Debt Statistics                                       </td><td>IDS   </td><td style=\"text-align: right;\">         4</td><td>2022-12-06   </td></tr>\n",
       "<tr><td>11  </td><td>Africa Development Indicators                                       </td><td>ADI   </td><td style=\"text-align: right;\">         3</td><td>2013-02-22   </td></tr>\n",
       "<tr><td>12  </td><td>Education Statistics                                                </td><td>EDS   </td><td style=\"text-align: right;\">         3</td><td>2020-12-20   </td></tr>\n",
       "<tr><td>13  </td><td>Enterprise Surveys                                                  </td><td>ESY   </td><td style=\"text-align: right;\">         3</td><td>2022-03-25   </td></tr>\n",
       "<tr><td>14  </td><td>Gender Statistics                                                   </td><td>GDS   </td><td style=\"text-align: right;\">         3</td><td>2022-06-23   </td></tr>\n",
       "<tr><td>15  </td><td>Global Economic Monitor                                             </td><td>GEM   </td><td style=\"text-align: right;\">         3</td><td>2020-07-27   </td></tr>\n",
       "<tr><td>16  </td><td>Health Nutrition and Population Statistics                          </td><td>HNP   </td><td style=\"text-align: right;\">         3</td><td>2022-12-23   </td></tr>\n",
       "<tr><td>18  </td><td>IDA Results Measurement System                                      </td><td>IDA   </td><td style=\"text-align: right;\">         3</td><td>2021-07-23   </td></tr>\n",
       "<tr><td>19  </td><td>Millennium Development Goals                                        </td><td>MDG   </td><td style=\"text-align: right;\">         3</td><td>2018-09-19   </td></tr>\n",
       "<tr><td>20  </td><td>Quarterly Public Sector Debt                                        </td><td>PSD   </td><td style=\"text-align: right;\">         3</td><td>2023-01-25   </td></tr>\n",
       "<tr><td>22  </td><td>Quarterly External Debt Statistics SDDS                             </td><td>QDS   </td><td style=\"text-align: right;\">         3</td><td>2023-01-17   </td></tr>\n",
       "<tr><td>23  </td><td>Quarterly External Debt Statistics GDDS                             </td><td>QDG   </td><td style=\"text-align: right;\">         3</td><td>2023-01-17   </td></tr>\n",
       "<tr><td>25  </td><td>Jobs                                                                </td><td>JOB   </td><td style=\"text-align: right;\">         3</td><td>2022-06-29   </td></tr>\n",
       "<tr><td>27  </td><td>Global Economic Prospects                                           </td><td>GEP   </td><td style=\"text-align: right;\">         3</td><td>2023-01-10   </td></tr>\n",
       "<tr><td>28  </td><td>Global Financial Inclusion                                          </td><td>FDX   </td><td style=\"text-align: right;\">         3</td><td>2022-10-24   </td></tr>\n",
       "<tr><td>29  </td><td>The Atlas of Social Protection: Indicators of Resilience and Equity </td><td>GSP   </td><td style=\"text-align: right;\">         3</td><td>2021-12-20   </td></tr>\n",
       "<tr><td>30  </td><td>Exporter Dynamics Database – Indicators at Country-Year Level       </td><td>ED1   </td><td style=\"text-align: right;\">         3</td><td>2016-03-31   </td></tr>\n",
       "<tr><td>31  </td><td>Country Policy and Institutional Assessment                         </td><td>CPI   </td><td style=\"text-align: right;\">         3</td><td>2022-09-15   </td></tr>\n",
       "<tr><td>32  </td><td>Global Financial Development                                        </td><td>GFD   </td><td style=\"text-align: right;\">         3</td><td>2022-09-23   </td></tr>\n",
       "<tr><td>33  </td><td>G20 Financial Inclusion Indicators                                  </td><td>G2F   </td><td style=\"text-align: right;\">         3</td><td>2019-02-27   </td></tr>\n",
       "<tr><td>34  </td><td>Global Partnership for Education                                    </td><td>GPE   </td><td style=\"text-align: right;\">         3</td><td>2013-04-12   </td></tr>\n",
       "<tr><td>35  </td><td>Sustainable Energy for All                                          </td><td>SE4   </td><td style=\"text-align: right;\">         3</td><td>2018-06-30   </td></tr>\n",
       "<tr><td>36  </td><td>Statistical Capacity Indicators                                     </td><td>BBS   </td><td style=\"text-align: right;\">         3</td><td>2021-02-03   </td></tr>\n",
       "<tr><td>37  </td><td>LAC Equity Lab                                                      </td><td>LEL   </td><td style=\"text-align: right;\">         3</td><td>2016-04-06   </td></tr>\n",
       "<tr><td>38  </td><td>Subnational Poverty                                                 </td><td>SNP   </td><td style=\"text-align: right;\">         3</td><td>2015-04-27   </td></tr>\n",
       "<tr><td>39  </td><td>Health Nutrition and Population Statistics by Wealth Quintile       </td><td>HNQ   </td><td style=\"text-align: right;\">         3</td><td>2022-12-13   </td></tr>\n",
       "<tr><td>40  </td><td>Population estimates and projections                                </td><td>HPP   </td><td style=\"text-align: right;\">         3</td><td>2022-12-23   </td></tr>\n",
       "<tr><td>41  </td><td>Country Partnership Strategy for India (FY2013 - 17)                </td><td>CPS   </td><td style=\"text-align: right;\">         3</td><td>2015-05-22   </td></tr>\n",
       "<tr><td>43  </td><td>Adjusted Net Savings                                                </td><td>WAT   </td><td style=\"text-align: right;\">         3</td><td>2022-09-20   </td></tr>\n",
       "<tr><td>45  </td><td>Indonesia Database for Policy and Economic Research                 </td><td>IDD   </td><td style=\"text-align: right;\">         3</td><td>2022-08-11   </td></tr>\n",
       "<tr><td>46  </td><td>Sustainable Development Goals                                       </td><td>SDG   </td><td style=\"text-align: right;\">         3</td><td>2022-07-22   </td></tr>\n",
       "<tr><td>50  </td><td>Subnational Population                                              </td><td>SNT   </td><td style=\"text-align: right;\">         3</td><td>2017-09-21   </td></tr>\n",
       "<tr><td>54  </td><td>Joint External Debt Hub                                             </td><td>JED   </td><td style=\"text-align: right;\">         3</td><td>2022-08-22   </td></tr>\n",
       "<tr><td>57  </td><td>WDI Database Archives                                               </td><td>WDA   </td><td style=\"text-align: right;\">         4</td><td>2022-11-01   </td></tr>\n",
       "<tr><td>58  </td><td>Universal Health Coverage                                           </td><td>UHC   </td><td style=\"text-align: right;\">         3</td><td>2019-04-25   </td></tr>\n",
       "<tr><td>59  </td><td>Wealth Accounts                                                     </td><td>WAC   </td><td style=\"text-align: right;\">         3</td><td>2021-10-27   </td></tr>\n",
       "<tr><td>60  </td><td>Economic Fitness                                                    </td><td>EFT   </td><td style=\"text-align: right;\">         3</td><td>2018-04-19   </td></tr>\n",
       "<tr><td>61  </td><td>PPPs Regulatory Quality                                             </td><td>PRQ   </td><td style=\"text-align: right;\">         3</td><td>2019-04-25   </td></tr>\n",
       "<tr><td>62  </td><td>International Comparison Program (ICP) 2011                         </td><td>ICP   </td><td style=\"text-align: right;\">         4</td><td>2020-08-24   </td></tr>\n",
       "<tr><td>63  </td><td>Human Capital Index                                                 </td><td>HCI   </td><td style=\"text-align: right;\">         3</td><td>2020-09-21   </td></tr>\n",
       "<tr><td>64  </td><td>Worldwide Bureaucracy Indicators                                    </td><td>WBI   </td><td style=\"text-align: right;\">         3</td><td>2022-09-20   </td></tr>\n",
       "<tr><td>65  </td><td>Health Equity and Financial Protection Indicators                   </td><td>HPI   </td><td style=\"text-align: right;\">         3</td><td>2019-11-06   </td></tr>\n",
       "<tr><td>66  </td><td>Logistics Performance Index                                         </td><td>LPI   </td><td style=\"text-align: right;\">         3</td><td>2019-10-29   </td></tr>\n",
       "<tr><td>67  </td><td>PEFA 2011                                                           </td><td>PF1   </td><td style=\"text-align: right;\">         4</td><td>2022-11-23   </td></tr>\n",
       "<tr><td>68  </td><td>PEFA 2016                                                           </td><td>PF6   </td><td style=\"text-align: right;\">         4</td><td>2023-01-12   </td></tr>\n",
       "<tr><td>69  </td><td>Global Financial Inclusion and Consumer Protection Survey           </td><td>RFA   </td><td style=\"text-align: right;\">         3</td><td>2019-06-27   </td></tr>\n",
       "<tr><td>70  </td><td>Economic Fitness 2                                                  </td><td>EF2   </td><td style=\"text-align: right;\">         3</td><td>2022-07-21   </td></tr>\n",
       "<tr><td>71  </td><td>International Comparison Program (ICP) 2005                         </td><td>IC5   </td><td style=\"text-align: right;\">         4</td><td>2021-09-10   </td></tr>\n",
       "<tr><td>73  </td><td>Global Financial Inclusion and Consumer Protection Survey (Internal)</td><td>RFI   </td><td style=\"text-align: right;\">         3</td><td>2019-06-27   </td></tr>\n",
       "<tr><td>75  </td><td>Environment, Social and Governance (ESG) Data                       </td><td>ESG   </td><td style=\"text-align: right;\">         3</td><td>2023-01-17   </td></tr>\n",
       "<tr><td>76  </td><td>Remittance Prices Worldwide (Sending Countries)                     </td><td>RWS   </td><td style=\"text-align: right;\">         3</td><td>2020-12-07   </td></tr>\n",
       "<tr><td>77  </td><td>Remittance Prices Worldwide (Receiving Countries)                   </td><td>RWR   </td><td style=\"text-align: right;\">         3</td><td>2020-12-07   </td></tr>\n",
       "<tr><td>78  </td><td>ICP 2017                                                            </td><td>IC7   </td><td style=\"text-align: right;\">         4</td><td>2020-10-21   </td></tr>\n",
       "<tr><td>79  </td><td>PEFA_GRPFM                                                          </td><td>GRP   </td><td style=\"text-align: right;\">         4</td><td>2022-12-18   </td></tr>\n",
       "<tr><td>80  </td><td>Gender Disaggregated Labor Database (GDLD)                          </td><td>GDL   </td><td style=\"text-align: right;\">         4</td><td>2020-07-25   </td></tr>\n",
       "<tr><td>81  </td><td>International Debt Statistics: DSSI                                 </td><td>DSI   </td><td style=\"text-align: right;\">         4</td><td>2022-12-06   </td></tr>\n",
       "<tr><td>82  </td><td>Global Public Procurement                                           </td><td>GPP   </td><td style=\"text-align: right;\">         3</td><td>2021-03-24   </td></tr>\n",
       "<tr><td>83  </td><td>Statistical Performance Indicators (SPI)                            </td><td>SPI   </td><td style=\"text-align: right;\">         3</td><td>2021-04-01   </td></tr>\n",
       "<tr><td>84  </td><td>Education Policy                                                    </td><td>EDP   </td><td style=\"text-align: right;\">         3</td><td>2022-07-19   </td></tr>\n",
       "<tr><td>85  </td><td>PEFA_2021_SNG                                                       </td><td>SNG   </td><td style=\"text-align: right;\">         4</td><td>2022-11-03   </td></tr>\n",
       "<tr><td>86  </td><td>Global Jobs Indicators Database (JOIN)                              </td><td>JON   </td><td style=\"text-align: right;\">         3</td><td>2021-09-24   </td></tr>\n",
       "<tr><td>87  </td><td>Country Climate and Development Report (CCDR)                       </td><td>CCD   </td><td style=\"text-align: right;\">         3</td><td>2022-10-07   </td></tr>\n",
       "<tr><td>88  </td><td>Food Prices for Nutrition                                           </td><td>FPN   </td><td style=\"text-align: right;\">         4</td><td>2022-07-05   </td></tr>\n",
       "<tr><td>89  </td><td>Identification for Development (ID4D) Data                          </td><td>ID4   </td><td style=\"text-align: right;\">         3</td><td>2022-12-21   </td></tr>\n",
       "<tr><td>    </td><td>68 elements                                                         </td><td>      </td><td style=\"text-align: right;\">          </td><td>             </td></tr>\n",
       "</tbody>\n",
       "</table></div>"
      ],
      "text/plain": [
       "id    name                                                                  code      concepts  lastupdated\n",
       "----  --------------------------------------------------------------------  ------  ----------  -------------\n",
       "1     Doing Business                                                        DBS              3  2021-08-18\n",
       "2     World Development Indicators                                          WDI              3  2022-12-22\n",
       "3     Worldwide Governance Indicators                                       WGI              3  2022-09-23\n",
       "5     Subnational Malnutrition Database                                     SNM              3  2016-03-21\n",
       "6     International Debt Statistics                                         IDS              4  2022-12-06\n",
       "11    Africa Development Indicators                                         ADI              3  2013-02-22\n",
       "12    Education Statistics                                                  EDS              3  2020-12-20\n",
       "13    Enterprise Surveys                                                    ESY              3  2022-03-25\n",
       "14    Gender Statistics                                                     GDS              3  2022-06-23\n",
       "15    Global Economic Monitor                                               GEM              3  2020-07-27\n",
       "16    Health Nutrition and Population Statistics                            HNP              3  2022-12-23\n",
       "18    IDA Results Measurement System                                        IDA              3  2021-07-23\n",
       "19    Millennium Development Goals                                          MDG              3  2018-09-19\n",
       "20    Quarterly Public Sector Debt                                          PSD              3  2023-01-25\n",
       "22    Quarterly External Debt Statistics SDDS                               QDS              3  2023-01-17\n",
       "23    Quarterly External Debt Statistics GDDS                               QDG              3  2023-01-17\n",
       "25    Jobs                                                                  JOB              3  2022-06-29\n",
       "27    Global Economic Prospects                                             GEP              3  2023-01-10\n",
       "28    Global Financial Inclusion                                            FDX              3  2022-10-24\n",
       "29    The Atlas of Social Protection: Indicators of Resilience and Equity   GSP              3  2021-12-20\n",
       "30    Exporter Dynamics Database – Indicators at Country-Year Level         ED1              3  2016-03-31\n",
       "31    Country Policy and Institutional Assessment                           CPI              3  2022-09-15\n",
       "32    Global Financial Development                                          GFD              3  2022-09-23\n",
       "33    G20 Financial Inclusion Indicators                                    G2F              3  2019-02-27\n",
       "34    Global Partnership for Education                                      GPE              3  2013-04-12\n",
       "35    Sustainable Energy for All                                            SE4              3  2018-06-30\n",
       "36    Statistical Capacity Indicators                                       BBS              3  2021-02-03\n",
       "37    LAC Equity Lab                                                        LEL              3  2016-04-06\n",
       "38    Subnational Poverty                                                   SNP              3  2015-04-27\n",
       "39    Health Nutrition and Population Statistics by Wealth Quintile         HNQ              3  2022-12-13\n",
       "40    Population estimates and projections                                  HPP              3  2022-12-23\n",
       "41    Country Partnership Strategy for India (FY2013 - 17)                  CPS              3  2015-05-22\n",
       "43    Adjusted Net Savings                                                  WAT              3  2022-09-20\n",
       "45    Indonesia Database for Policy and Economic Research                   IDD              3  2022-08-11\n",
       "46    Sustainable Development Goals                                         SDG              3  2022-07-22\n",
       "50    Subnational Population                                                SNT              3  2017-09-21\n",
       "54    Joint External Debt Hub                                               JED              3  2022-08-22\n",
       "57    WDI Database Archives                                                 WDA              4  2022-11-01\n",
       "58    Universal Health Coverage                                             UHC              3  2019-04-25\n",
       "59    Wealth Accounts                                                       WAC              3  2021-10-27\n",
       "60    Economic Fitness                                                      EFT              3  2018-04-19\n",
       "61    PPPs Regulatory Quality                                               PRQ              3  2019-04-25\n",
       "62    International Comparison Program (ICP) 2011                           ICP              4  2020-08-24\n",
       "63    Human Capital Index                                                   HCI              3  2020-09-21\n",
       "64    Worldwide Bureaucracy Indicators                                      WBI              3  2022-09-20\n",
       "65    Health Equity and Financial Protection Indicators                     HPI              3  2019-11-06\n",
       "66    Logistics Performance Index                                           LPI              3  2019-10-29\n",
       "67    PEFA 2011                                                             PF1              4  2022-11-23\n",
       "68    PEFA 2016                                                             PF6              4  2023-01-12\n",
       "69    Global Financial Inclusion and Consumer Protection Survey             RFA              3  2019-06-27\n",
       "70    Economic Fitness 2                                                    EF2              3  2022-07-21\n",
       "71    International Comparison Program (ICP) 2005                           IC5              4  2021-09-10\n",
       "73    Global Financial Inclusion and Consumer Protection Survey (Internal)  RFI              3  2019-06-27\n",
       "75    Environment, Social and Governance (ESG) Data                         ESG              3  2023-01-17\n",
       "76    Remittance Prices Worldwide (Sending Countries)                       RWS              3  2020-12-07\n",
       "77    Remittance Prices Worldwide (Receiving Countries)                     RWR              3  2020-12-07\n",
       "78    ICP 2017                                                              IC7              4  2020-10-21\n",
       "79    PEFA_GRPFM                                                            GRP              4  2022-12-18\n",
       "80    Gender Disaggregated Labor Database (GDLD)                            GDL              4  2020-07-25\n",
       "81    International Debt Statistics: DSSI                                   DSI              4  2022-12-06\n",
       "82    Global Public Procurement                                             GPP              3  2021-03-24\n",
       "83    Statistical Performance Indicators (SPI)                              SPI              3  2021-04-01\n",
       "84    Education Policy                                                      EDP              3  2022-07-19\n",
       "85    PEFA_2021_SNG                                                         SNG              4  2022-11-03\n",
       "86    Global Jobs Indicators Database (JOIN)                                JON              3  2021-09-24\n",
       "87    Country Climate and Development Report (CCDR)                         CCD              3  2022-10-07\n",
       "88    Food Prices for Nutrition                                             FPN              4  2022-07-05\n",
       "89    Identification for Development (ID4D) Data                            ID4              3  2022-12-21\n",
       "      68 elements"
      ]
     },
     "execution_count": 3,
     "metadata": {},
     "output_type": "execute_result"
    }
   ],
   "source": [
    "# list available sources\n",
    "wb.source.info()"
   ]
  },
  {
   "cell_type": "code",
   "execution_count": 4,
   "metadata": {},
   "outputs": [
    {
     "data": {
      "text/html": [
       "<div class=\"wbgapi\"><table>\n",
       "<thead>\n",
       "<tr><th>id  </th><th>name                            </th><th>code  </th><th style=\"text-align: right;\">  concepts</th><th>lastupdated  </th></tr>\n",
       "</thead>\n",
       "<tbody>\n",
       "<tr><td>12  </td><td>Education Statistics            </td><td>EDS   </td><td style=\"text-align: right;\">         3</td><td>2020-12-20   </td></tr>\n",
       "<tr><td>34  </td><td>Global Partnership for Education</td><td>GPE   </td><td style=\"text-align: right;\">         3</td><td>2013-04-12   </td></tr>\n",
       "<tr><td>84  </td><td>Education Policy                </td><td>EDP   </td><td style=\"text-align: right;\">         3</td><td>2022-07-19   </td></tr>\n",
       "<tr><td>    </td><td>3 elements                      </td><td>      </td><td style=\"text-align: right;\">          </td><td>             </td></tr>\n",
       "</tbody>\n",
       "</table></div>"
      ],
      "text/plain": [
       "id    name                              code      concepts  lastupdated\n",
       "----  --------------------------------  ------  ----------  -------------\n",
       "12    Education Statistics              EDS              3  2020-12-20\n",
       "34    Global Partnership for Education  GPE              3  2013-04-12\n",
       "84    Education Policy                  EDP              3  2022-07-19\n",
       "      3 elements"
      ]
     },
     "execution_count": 4,
     "metadata": {},
     "output_type": "execute_result"
    }
   ],
   "source": [
    "# search for 'education' databases\n",
    "wb.source.info(q='education')"
   ]
  },
  {
   "cell_type": "code",
   "execution_count": 5,
   "metadata": {},
   "outputs": [],
   "source": [
    "# change database to 'Education Statistics' (id 12)\n",
    "wb.db = 12"
   ]
  },
  {
   "cell_type": "code",
   "execution_count": 6,
   "metadata": {},
   "outputs": [
    {
     "data": {
      "text/plain": [
       "12"
      ]
     },
     "execution_count": 6,
     "metadata": {},
     "output_type": "execute_result"
    }
   ],
   "source": [
    "wb.db"
   ]
  },
  {
   "cell_type": "code",
   "execution_count": 7,
   "metadata": {},
   "outputs": [
    {
     "data": {
      "text/html": [
       "<div>\n",
       "<style scoped>\n",
       "    .dataframe tbody tr th:only-of-type {\n",
       "        vertical-align: middle;\n",
       "    }\n",
       "\n",
       "    .dataframe tbody tr th {\n",
       "        vertical-align: top;\n",
       "    }\n",
       "\n",
       "    .dataframe thead th {\n",
       "        text-align: right;\n",
       "    }\n",
       "</style>\n",
       "<table border=\"1\" class=\"dataframe\">\n",
       "  <thead>\n",
       "    <tr style=\"text-align: right;\">\n",
       "      <th></th>\n",
       "      <th>id</th>\n",
       "      <th>value</th>\n",
       "    </tr>\n",
       "  </thead>\n",
       "  <tbody>\n",
       "    <tr>\n",
       "      <th>0</th>\n",
       "      <td>BAR.NOED.1519.FE.ZS</td>\n",
       "      <td>Barro-Lee: Percentage of female population age 15-19 with no education</td>\n",
       "    </tr>\n",
       "    <tr>\n",
       "      <th>1</th>\n",
       "      <td>BAR.NOED.1519.ZS</td>\n",
       "      <td>Barro-Lee: Percentage of population age 15-19 with no education</td>\n",
       "    </tr>\n",
       "    <tr>\n",
       "      <th>2</th>\n",
       "      <td>BAR.NOED.15UP.FE.ZS</td>\n",
       "      <td>Barro-Lee: Percentage of female population age 15+ with no education</td>\n",
       "    </tr>\n",
       "    <tr>\n",
       "      <th>3</th>\n",
       "      <td>BAR.NOED.15UP.ZS</td>\n",
       "      <td>Barro-Lee: Percentage of population age 15+ with no education</td>\n",
       "    </tr>\n",
       "    <tr>\n",
       "      <th>4</th>\n",
       "      <td>BAR.NOED.2024.FE.ZS</td>\n",
       "      <td>Barro-Lee: Percentage of female population age 20-24 with no education</td>\n",
       "    </tr>\n",
       "    <tr>\n",
       "      <th>...</th>\n",
       "      <td>...</td>\n",
       "      <td>...</td>\n",
       "    </tr>\n",
       "    <tr>\n",
       "      <th>4396</th>\n",
       "      <td>UIS.YR.END.MON.6T8</td>\n",
       "      <td>End month of the academic school year (tertiary education)</td>\n",
       "    </tr>\n",
       "    <tr>\n",
       "      <th>4397</th>\n",
       "      <td>UIS.YR.ST.01T5</td>\n",
       "      <td>Start of the academic school year (pre-primary to post-secondary non tertiary education)</td>\n",
       "    </tr>\n",
       "    <tr>\n",
       "      <th>4398</th>\n",
       "      <td>UIS.YR.ST.6T8</td>\n",
       "      <td>Start of the academic school year (tertiary education)</td>\n",
       "    </tr>\n",
       "    <tr>\n",
       "      <th>4399</th>\n",
       "      <td>UIS.YR.ST.MON.01T5</td>\n",
       "      <td>Start month of the academic school year (pre-primary to post-secondary non-tertiary education)</td>\n",
       "    </tr>\n",
       "    <tr>\n",
       "      <th>4400</th>\n",
       "      <td>UIS.YR.ST.MON.6T8</td>\n",
       "      <td>Start month of the academic school year (tertiary education)</td>\n",
       "    </tr>\n",
       "  </tbody>\n",
       "</table>\n",
       "<p>4401 rows × 2 columns</p>\n",
       "</div>"
      ],
      "text/plain": [
       "                       id  \\\n",
       "0     BAR.NOED.1519.FE.ZS   \n",
       "1        BAR.NOED.1519.ZS   \n",
       "2     BAR.NOED.15UP.FE.ZS   \n",
       "3        BAR.NOED.15UP.ZS   \n",
       "4     BAR.NOED.2024.FE.ZS   \n",
       "...                   ...   \n",
       "4396   UIS.YR.END.MON.6T8   \n",
       "4397       UIS.YR.ST.01T5   \n",
       "4398        UIS.YR.ST.6T8   \n",
       "4399   UIS.YR.ST.MON.01T5   \n",
       "4400    UIS.YR.ST.MON.6T8   \n",
       "\n",
       "                                                                                               value  \n",
       "0                             Barro-Lee: Percentage of female population age 15-19 with no education  \n",
       "1                                    Barro-Lee: Percentage of population age 15-19 with no education  \n",
       "2                               Barro-Lee: Percentage of female population age 15+ with no education  \n",
       "3                                      Barro-Lee: Percentage of population age 15+ with no education  \n",
       "4                             Barro-Lee: Percentage of female population age 20-24 with no education  \n",
       "...                                                                                              ...  \n",
       "4396                                      End month of the academic school year (tertiary education)  \n",
       "4397        Start of the academic school year (pre-primary to post-secondary non tertiary education)  \n",
       "4398                                          Start of the academic school year (tertiary education)  \n",
       "4399  Start month of the academic school year (pre-primary to post-secondary non-tertiary education)  \n",
       "4400                                    Start month of the academic school year (tertiary education)  \n",
       "\n",
       "[4401 rows x 2 columns]"
      ]
     },
     "execution_count": 7,
     "metadata": {},
     "output_type": "execute_result"
    }
   ],
   "source": [
    "# get, in a DataFrame, all series in the education statistics database\n",
    "ed_series = pd.DataFrame(wb.series.list())\n",
    "ed_series"
   ]
  },
  {
   "cell_type": "code",
   "execution_count": 8,
   "metadata": {},
   "outputs": [],
   "source": [
    "# select/filter the series of interest\n",
    "# series with goverment expenses\n",
    "df_temp_a = ed_series[ed_series['value'].str.lower().str.contains('government expenditure')]\n",
    "# further filter only the goverment expenses in  USD\n",
    "df_temp_b = df_temp_a[df_temp_a['value'].str.contains('US\\$')]\n",
    "\n",
    "goverment_expenses = list(df_temp_b['id'])"
   ]
  },
  {
   "cell_type": "code",
   "execution_count": 9,
   "metadata": {},
   "outputs": [
    {
     "data": {
      "text/html": [
       "<div>\n",
       "<style scoped>\n",
       "    .dataframe tbody tr th:only-of-type {\n",
       "        vertical-align: middle;\n",
       "    }\n",
       "\n",
       "    .dataframe tbody tr th {\n",
       "        vertical-align: top;\n",
       "    }\n",
       "\n",
       "    .dataframe thead th {\n",
       "        text-align: right;\n",
       "    }\n",
       "</style>\n",
       "<table border=\"1\" class=\"dataframe\">\n",
       "  <thead>\n",
       "    <tr style=\"text-align: right;\">\n",
       "      <th></th>\n",
       "      <th>id</th>\n",
       "      <th>value</th>\n",
       "    </tr>\n",
       "  </thead>\n",
       "  <tbody>\n",
       "    <tr>\n",
       "      <th>1202</th>\n",
       "      <td>LO.PISA.MAT</td>\n",
       "      <td>PISA: Mean performance on the mathematics scale</td>\n",
       "    </tr>\n",
       "    <tr>\n",
       "      <th>1203</th>\n",
       "      <td>LO.PISA.MAT.0</td>\n",
       "      <td>PISA: 15-year-olds by mathematics proficiency level (%). Below Level 1</td>\n",
       "    </tr>\n",
       "    <tr>\n",
       "      <th>1204</th>\n",
       "      <td>LO.PISA.MAT.0.FE</td>\n",
       "      <td>PISA: Female 15-year-olds by mathematics proficiency level (%). Below Level 1</td>\n",
       "    </tr>\n",
       "    <tr>\n",
       "      <th>1205</th>\n",
       "      <td>LO.PISA.MAT.0.MA</td>\n",
       "      <td>PISA: Male 15-year-olds by mathematics proficiency level (%). Below Level 1</td>\n",
       "    </tr>\n",
       "    <tr>\n",
       "      <th>1206</th>\n",
       "      <td>LO.PISA.MAT.1</td>\n",
       "      <td>PISA: 15-year-olds by mathematics proficiency level (%). Level 1</td>\n",
       "    </tr>\n",
       "    <tr>\n",
       "      <th>...</th>\n",
       "      <td>...</td>\n",
       "      <td>...</td>\n",
       "    </tr>\n",
       "    <tr>\n",
       "      <th>1299</th>\n",
       "      <td>LO.PISA.SCI.P25</td>\n",
       "      <td>PISA: Distribution of Science Scores: 25th Percentile Score</td>\n",
       "    </tr>\n",
       "    <tr>\n",
       "      <th>1300</th>\n",
       "      <td>LO.PISA.SCI.P50</td>\n",
       "      <td>PISA: Distribution of Science Scores: 50th Percentile Score</td>\n",
       "    </tr>\n",
       "    <tr>\n",
       "      <th>1301</th>\n",
       "      <td>LO.PISA.SCI.P75</td>\n",
       "      <td>PISA: Distribution of Science Scores: 75th Percentile Score</td>\n",
       "    </tr>\n",
       "    <tr>\n",
       "      <th>1302</th>\n",
       "      <td>LO.PISA.SCI.P90</td>\n",
       "      <td>PISA: Distribution of Science Scores: 90th Percentile Score</td>\n",
       "    </tr>\n",
       "    <tr>\n",
       "      <th>1303</th>\n",
       "      <td>LO.PISA.SCI.P95</td>\n",
       "      <td>PISA: Distribution of Science Scores: 95th Percentile Score</td>\n",
       "    </tr>\n",
       "  </tbody>\n",
       "</table>\n",
       "<p>102 rows × 2 columns</p>\n",
       "</div>"
      ],
      "text/plain": [
       "                    id  \\\n",
       "1202       LO.PISA.MAT   \n",
       "1203     LO.PISA.MAT.0   \n",
       "1204  LO.PISA.MAT.0.FE   \n",
       "1205  LO.PISA.MAT.0.MA   \n",
       "1206     LO.PISA.MAT.1   \n",
       "...                ...   \n",
       "1299   LO.PISA.SCI.P25   \n",
       "1300   LO.PISA.SCI.P50   \n",
       "1301   LO.PISA.SCI.P75   \n",
       "1302   LO.PISA.SCI.P90   \n",
       "1303   LO.PISA.SCI.P95   \n",
       "\n",
       "                                                                              value  \n",
       "1202                                PISA: Mean performance on the mathematics scale  \n",
       "1203         PISA: 15-year-olds by mathematics proficiency level (%). Below Level 1  \n",
       "1204  PISA: Female 15-year-olds by mathematics proficiency level (%). Below Level 1  \n",
       "1205    PISA: Male 15-year-olds by mathematics proficiency level (%). Below Level 1  \n",
       "1206               PISA: 15-year-olds by mathematics proficiency level (%). Level 1  \n",
       "...                                                                             ...  \n",
       "1299                    PISA: Distribution of Science Scores: 25th Percentile Score  \n",
       "1300                    PISA: Distribution of Science Scores: 50th Percentile Score  \n",
       "1301                    PISA: Distribution of Science Scores: 75th Percentile Score  \n",
       "1302                    PISA: Distribution of Science Scores: 90th Percentile Score  \n",
       "1303                    PISA: Distribution of Science Scores: 95th Percentile Score  \n",
       "\n",
       "[102 rows x 2 columns]"
      ]
     },
     "execution_count": 9,
     "metadata": {},
     "output_type": "execute_result"
    }
   ],
   "source": [
    "# select the series with test scores\n",
    "ed_series[ed_series['value'].str.lower().str.contains('pisa')]\n"
   ]
  },
  {
   "cell_type": "code",
   "execution_count": 13,
   "metadata": {},
   "outputs": [
    {
     "data": {
      "text/html": [
       "<div class=\"wbgapi\"><table>\n",
       "<thead>\n",
       "<tr><th>id                       </th><th>value                                                                                                                 </th></tr>\n",
       "</thead>\n",
       "<tbody>\n",
       "<tr><td>UIS.X.USCONST.UK.FSGOV   </td><td>Government expenditure on education not specified by level, constant US$ (millions)                                   </td></tr>\n",
       "<tr><td>UIS.X.US.UK.FSGOV        </td><td>Government expenditure on education not specified by level, US$ (millions)                                            </td></tr>\n",
       "<tr><td>UIS.X.USCONST.FSGOV      </td><td>Government expenditure on education, constant US$ (millions)                                                          </td></tr>\n",
       "<tr><td>UIS.X.US.FSGOV           </td><td>Government expenditure on education, US$ (millions)                                                                   </td></tr>\n",
       "<tr><td>UIS.X.USCONST.2.FSGOV    </td><td>Government expenditure on lower secondary education, constant US$ (millions)                                          </td></tr>\n",
       "<tr><td>UIS.X.US.2.FSGOV         </td><td>Government expenditure on lower secondary education, US$ (millions)                                                   </td></tr>\n",
       "<tr><td>UIS.X.USCONST.4.FSGOV    </td><td>Government expenditure on post-secondary non-tertiary education, constant US$ (millions)                              </td></tr>\n",
       "<tr><td>UIS.X.US.4.FSGOV         </td><td>Government expenditure on post-secondary non-tertiary education, US$ (millions)                                       </td></tr>\n",
       "<tr><td>UIS.X.USCONST.02.FSGOV   </td><td>Government expenditure on pre-primary education, constant US$ (millions)                                              </td></tr>\n",
       "<tr><td>UIS.X.US.02.FSGOV        </td><td>Government expenditure on pre-primary education, US$ (millions)                                                       </td></tr>\n",
       "<tr><td>UIS.X.USCONST.1.FSGOV    </td><td>Government expenditure on primary education, constant US$ (millions)                                                  </td></tr>\n",
       "<tr><td>UIS.X.US.1.FSGOV         </td><td>Government expenditure on primary education, US$ (millions)                                                           </td></tr>\n",
       "<tr><td>UIS.X.USCONST.2T4.V.FSGOV</td><td>Government expenditure on secondary and post-secondary non-tertiary vocational education only, constant US$ (millions)</td></tr>\n",
       "<tr><td>UIS.X.US.2T4.V.FSGOV     </td><td>Government expenditure on secondary and post-secondary non-tertiary vocational education only, US$ (millions)         </td></tr>\n",
       "<tr><td>UIS.X.USCONST.2T3.FSGOV  </td><td>Government expenditure on secondary education, constant US$ (millions)                                                </td></tr>\n",
       "<tr><td>UIS.X.US.2T3.FSGOV       </td><td>Government expenditure on secondary education, US$ (millions)                                                         </td></tr>\n",
       "<tr><td>UIS.X.USCONST.5T8.FSGOV  </td><td>Government expenditure on tertiary education, constant US$ (millions)                                                 </td></tr>\n",
       "<tr><td>UIS.X.US.5T8.FSGOV       </td><td>Government expenditure on tertiary education, US$ (millions)                                                          </td></tr>\n",
       "<tr><td>UIS.X.USCONST.3.FSGOV    </td><td>Government expenditure on upper secondary education, constant US$ (millions)                                          </td></tr>\n",
       "<tr><td>UIS.X.US.3.FSGOV         </td><td>Government expenditure on upper secondary education, US$ (millions)                                                   </td></tr>\n",
       "<tr><td>                         </td><td>20 elements                                                                                                           </td></tr>\n",
       "</tbody>\n",
       "</table></div>"
      ],
      "text/plain": [
       "id                         value\n",
       "-------------------------  ----------------------------------------------------------------------------------------------------------------------\n",
       "UIS.X.USCONST.UK.FSGOV     Government expenditure on education not specified by level, constant US$ (millions)\n",
       "UIS.X.US.UK.FSGOV          Government expenditure on education not specified by level, US$ (millions)\n",
       "UIS.X.USCONST.FSGOV        Government expenditure on education, constant US$ (millions)\n",
       "UIS.X.US.FSGOV             Government expenditure on education, US$ (millions)\n",
       "UIS.X.USCONST.2.FSGOV      Government expenditure on lower secondary education, constant US$ (millions)\n",
       "UIS.X.US.2.FSGOV           Government expenditure on lower secondary education, US$ (millions)\n",
       "UIS.X.USCONST.4.FSGOV      Government expenditure on post-secondary non-tertiary education, constant US$ (millions)\n",
       "UIS.X.US.4.FSGOV           Government expenditure on post-secondary non-tertiary education, US$ (millions)\n",
       "UIS.X.USCONST.02.FSGOV     Government expenditure on pre-primary education, constant US$ (millions)\n",
       "UIS.X.US.02.FSGOV          Government expenditure on pre-primary education, US$ (millions)\n",
       "UIS.X.USCONST.1.FSGOV      Government expenditure on primary education, constant US$ (millions)\n",
       "UIS.X.US.1.FSGOV           Government expenditure on primary education, US$ (millions)\n",
       "UIS.X.USCONST.2T4.V.FSGOV  Government expenditure on secondary and post-secondary non-tertiary vocational education only, constant US$ (millions)\n",
       "UIS.X.US.2T4.V.FSGOV       Government expenditure on secondary and post-secondary non-tertiary vocational education only, US$ (millions)\n",
       "UIS.X.USCONST.2T3.FSGOV    Government expenditure on secondary education, constant US$ (millions)\n",
       "UIS.X.US.2T3.FSGOV         Government expenditure on secondary education, US$ (millions)\n",
       "UIS.X.USCONST.5T8.FSGOV    Government expenditure on tertiary education, constant US$ (millions)\n",
       "UIS.X.US.5T8.FSGOV         Government expenditure on tertiary education, US$ (millions)\n",
       "UIS.X.USCONST.3.FSGOV      Government expenditure on upper secondary education, constant US$ (millions)\n",
       "UIS.X.US.3.FSGOV           Government expenditure on upper secondary education, US$ (millions)\n",
       "                           20 elements"
      ]
     },
     "execution_count": 13,
     "metadata": {},
     "output_type": "execute_result"
    }
   ],
   "source": [
    "\n",
    "wb.series.info(goverment_expenses)"
   ]
  },
  {
   "cell_type": "code",
   "execution_count": 14,
   "metadata": {},
   "outputs": [
    {
     "name": "stdout",
     "output_type": "stream",
     "text": [
      "UIS.X.US.FSGOV: Government expenditure on education, US$ (millions)\n"
     ]
    }
   ],
   "source": [
    "# get the series data for Brazil\n",
    "# select the goverment expenditure on education, US$\n",
    "serie_id = 'UIS.X.US.FSGOV'\n",
    "# transform to list\n",
    "# get the first element (a dictionary)\n",
    "# get the value of the key called 'value'\n",
    "serie_desc = list(wb.series.list(serie_id))[0]['value']\n",
    "print(f'{serie_id}: {serie_desc}')\n",
    "\n",
    "df = wb.data.DataFrame(serie_id, 'BRA').reset_index()"
   ]
  },
  {
   "attachments": {},
   "cell_type": "markdown",
   "metadata": {},
   "source": [
    "## Data Cleaning"
   ]
  },
  {
   "cell_type": "code",
   "execution_count": 15,
   "metadata": {},
   "outputs": [],
   "source": [
    "df_clean = df.copy()"
   ]
  },
  {
   "cell_type": "code",
   "execution_count": 16,
   "metadata": {},
   "outputs": [],
   "source": [
    "\n",
    "df_clean = df_clean.melt(id_vars=['economy'], value_name=serie_desc, var_name='year')"
   ]
  },
  {
   "cell_type": "code",
   "execution_count": 18,
   "metadata": {},
   "outputs": [],
   "source": [
    "# remove extra characters in the column 'year'\n",
    "\n",
    "df_clean['year'] = df_clean['year'].str.replace('YR', '')"
   ]
  },
  {
   "cell_type": "code",
   "execution_count": 22,
   "metadata": {},
   "outputs": [
    {
     "data": {
      "text/plain": [
       "economy                                                 0\n",
       "year                                                    0\n",
       "Government expenditure on education, US$ (millions)    47\n",
       "dtype: int64"
      ]
     },
     "execution_count": 22,
     "metadata": {},
     "output_type": "execute_result"
    }
   ],
   "source": [
    "# check for NaNs\n",
    "df_clean.isna().sum()"
   ]
  },
  {
   "cell_type": "code",
   "execution_count": 23,
   "metadata": {},
   "outputs": [],
   "source": [
    "# dropping the NaNs\n",
    "df_clean.dropna(inplace=True)"
   ]
  },
  {
   "cell_type": "code",
   "execution_count": 25,
   "metadata": {},
   "outputs": [
    {
     "data": {
      "text/plain": [
       "economy                                                0\n",
       "year                                                   0\n",
       "Government expenditure on education, US$ (millions)    0\n",
       "dtype: int64"
      ]
     },
     "execution_count": 25,
     "metadata": {},
     "output_type": "execute_result"
    }
   ],
   "source": [
    "# check\n",
    "df_clean.isna().sum()"
   ]
  }
 ],
 "metadata": {
  "kernelspec": {
   "display_name": "base",
   "language": "python",
   "name": "python3"
  },
  "language_info": {
   "codemirror_mode": {
    "name": "ipython",
    "version": 3
   },
   "file_extension": ".py",
   "mimetype": "text/x-python",
   "name": "python",
   "nbconvert_exporter": "python",
   "pygments_lexer": "ipython3",
   "version": "3.8.13"
  },
  "orig_nbformat": 4,
  "vscode": {
   "interpreter": {
    "hash": "19d1d53a962d236aa061289c2ac16dc8e6d9648c89fe79f459ae9a3493bc67b4"
   }
  }
 },
 "nbformat": 4,
 "nbformat_minor": 2
}
